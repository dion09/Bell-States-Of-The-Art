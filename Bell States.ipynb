{
 "cells": [
  {
   "cell_type": "code",
   "execution_count": 8,
   "id": "b04708b8",
   "metadata": {},
   "outputs": [
    {
     "name": "stdout",
     "output_type": "stream",
     "text": [
      "1.|φ+>\n",
      " 2.|φ->\n",
      " 3.|Ψ+>\n",
      " 4.|Ψ->\n",
      "\n"
     ]
    },
    {
     "name": "stdin",
     "output_type": "stream",
     "text": [
      "Give a number from 1 to 4:  4\n"
     ]
    },
    {
     "data": {
      "image/png": "[encoded data removed]",
      "text/plain": [
       "<Figure size 594.223x284.278 with 1 Axes>"
      ]
     },
     "execution_count": 8,
     "metadata": {},
     "output_type": "execute_result"
    }
   ],
   "source": [
    "from qiskit import *\n",
    "# from qiskit.tools.monitor import job_monitor\n",
    "# from qiskit.tools.visualization import plot_histogram\n",
    "# from qiskit.providers.ibmq import least_busy\n",
    "# from qiskit import IBMQ, QuantumCircuit, transpile, assemble\n",
    "from pythonosc import udp_client, dispatcher\n",
    "import numpy as np\n",
    "import socket\n",
    "import random\n",
    "import time\n",
    "def menu():\n",
    "    print(\"1.|φ+>\\n\",\n",
    "          \"2.|φ->\\n\",\n",
    "          \"3.|Ψ+>\\n\",\n",
    "          \"4.|Ψ->\\n\")\n",
    "menu()\n",
    "q = QuantumRegister(2,'qubit')\n",
    "c = ClassicalRegister(2,'bit')\n",
    "qc = QuantumCircuit(q,c)\n",
    "choice = int(input(\"Give a number from 1 to 4: \"))\n",
    "if choice == 1:\n",
    "    qc.h(q[0])\n",
    "    qc.id(q[1])\n",
    "    qc.cx(q[0],q[1])\n",
    "    qc.measure(q,c)\n",
    "elif choice == 2:\n",
    "    qc.x(q[0])\n",
    "    qc.id(q[1])\n",
    "    qc.h(q[0])\n",
    "    qc.id(q[1])\n",
    "    qc.cx(q[0],q[1])\n",
    "\n",
    "    qc.measure(q,c)\n",
    "elif choice == 3:\n",
    "    qc.h(q[0])\n",
    "    qc.x(q[1])\n",
    "    qc.cx(q[0],q[1])\n",
    "    qc.measure(q,c)\n",
    "elif choice == 4:\n",
    "    qc.h(q[0])\n",
    "    qc.x(q[1])\n",
    "    qc.z(q[0])\n",
    "    qc.z(q[1])\n",
    "    qc.cx(q[0],q[1])\n",
    "\n",
    "    \n",
    "    qc.measure(q,c)\n",
    "    \n",
    "qc.draw(output = \"mpl\")\n",
    "\n",
    "\n"
   ]
  },
  {
   "cell_type": "code",
   "execution_count": 9,
   "id": "4ffba8f9",
   "metadata": {},
   "outputs": [
    {
     "name": "stdout",
     "output_type": "stream",
     "text": [
      "{'01': 0.529296875, '10': 0.470703125}\n"
     ]
    }
   ],
   "source": [
    "from qiskit.primitives import Sampler\n",
    "# from qiskit.visualization import plot_distribution, plot_histogram\n",
    "\n",
    "results = Sampler().run( qc, shots=1024 ). result()\n",
    "\n",
    "answer = results.quasi_dists[0].binary_probabilities()\n",
    "print(answer)\n",
    "# answer = results.get_counts(qc)\n",
    "# print(int(results))\n"
   ]
  },
  {
   "cell_type": "code",
   "execution_count": 11,
   "id": "1671807e",
   "metadata": {},
   "outputs": [],
   "source": [
    "\n",
    "\n",
    "address = socket.gethostbyname(socket.gethostname())\n",
    "port = 4560\n",
    "first_states =[]\n",
    "final_states =[]\n",
    "bell_states_music =list(answer.keys())\n",
    "bell_states_music_phase = list(answer.values())\n",
    "\n",
    "\n",
    "for i in bell_states_music[0]:\n",
    "    first_states.append(i)\n",
    "\n",
    "for j in bell_states_music[1]:\n",
    "    final_states.append(j)\n",
    "    \n",
    "# Phase_0 = (bell_states_music_phase[0]/1000)\n",
    "# Phase_1 = (bell_states_music_phase[1]/1000)\n",
    "\n",
    "# phase_0 = float(round(Phase_0,1))\n",
    "# phase_1 = float(round(Phase_1,1))\n",
    "\n",
    "client = udp_client.SimpleUDPClient(address, 4560)\n",
    "\n",
    "client.send_message(\"/first_states\",first_states)\n",
    "client.send_message(\"/final_states\",final_states)\n",
    "# client.send_message(\"/phase_0\",phase_0)\n",
    "# client.send_message(\"/phase_1\",phase_1)\n",
    "\n",
    "\n",
    "\n",
    "\n",
    "\n",
    "\n",
    "\n"
   ]
  },
  {
   "cell_type": "markdown",
   "id": "68692995",
   "metadata": {},
   "source": [
    "bell_states_phase =list(answer.values())\n",
    "phase_0 = (bell_states_phase[0]/1000)\n",
    "phase_1 = (bell_states_phase[1]/1000)\n",
    "\n",
    "print(phase_0)\n",
    "print(phase_1)\n",
    "\n",
    "client.send_message(\"/phase_0\",phase_0)\n",
    "client.send_message(\"/phase_1\",phase_1)\n"
   ]
  },
  {
   "cell_type": "code",
   "execution_count": 8,
   "id": "624d9e08",
   "metadata": {},
   "outputs": [
    {
     "name": "stderr",
     "output_type": "stream",
     "text": [
      "ibmqfactory.load_account:WARNING:2024-01-14 01:14:10,929: Credentials are already in use. The existing account in the session will be replaced.\n"
     ]
    },
    {
     "name": "stdout",
     "output_type": "stream",
     "text": [
      "ibm_kyoto\n"
     ]
    }
   ],
   "source": [
    "IBMQ.save_account('271c5557db1736159a658638fd8c19b13eb3a24485a261eeff93994490c03f67ffc2c6ec9ce6558c0cc2faa5fe0d2876d5f38951a4ffc904161c42947f29d3ee', overwrite=True)\n",
    "IBMQ.load_account()\n",
    "provider = IBMQ.get_provider(hub='ibm-q', group='open', project='main')\n",
    "\n",
    "# from qiskit import IBMQ\n",
    "device = least_busy(provider.backends(filters=lambda x: x.configuration().n_qubits >= 2 and\n",
    "                                                       not x.configuration().simulator and\n",
    "                                                       x.status().operational == True))\n",
    "# # Get all available backends\n",
    "# # backends = provider.backends()\n",
    "\n",
    "# # real_backends=[backend for backend in backends if not backend.configuration().simulator and backend.status().operational]\n",
    "\n",
    "# # least_busy_backend = least_busy(real_backends)\n",
    "print(device)\n",
    "\n"
   ]
  },
  {
   "cell_type": "code",
   "execution_count": 9,
   "id": "e837275f",
   "metadata": {},
   "outputs": [],
   "source": [
    "job = execute(qc,backend = device,shots = 1024).result()\n",
    "device_result = job.get_counts()\n",
    "\n",
    "quantum_results = device_result\n",
    "classical_results=answer\n"
   ]
  },
  {
   "cell_type": "code",
   "execution_count": 10,
   "id": "eb8a73c3",
   "metadata": {},
   "outputs": [
    {
     "data": {
      "image/png": "[encoded data removed]",
      "text/plain": [
       "<Figure size 700x500 with 1 Axes>"
      ]
     },
     "execution_count": 10,
     "metadata": {},
     "output_type": "execute_result"
    }
   ],
   "source": [
    "plot_histogram([quantum_results,classical_results], bar_labels=True)\n"
   ]
  },
  {
   "cell_type": "code",
   "execution_count": 9,
   "id": "a3d56cc8",
   "metadata": {},
   "outputs": [
    {
     "ename": "PanicException",
     "evalue": "StableGraph::add_edge: node index 1 is not a node in the graph",
     "output_type": "error",
     "traceback": [
      "\u001b[1;31m---------------------------------------------------------------------------\u001b[0m",
      "\u001b[1;31mPanicException\u001b[0m                            Traceback (most recent call last)",
      "Cell \u001b[1;32mIn [9], line 6\u001b[0m\n\u001b[0;32m      1\u001b[0m \u001b[38;5;66;03m# device = provider.get_backend('ibm_osaka') \u001b[39;00m\n\u001b[0;32m      2\u001b[0m \u001b[38;5;66;03m# from qiskit.tools.monitor import job_monitor\u001b[39;00m\n\u001b[0;32m      3\u001b[0m \u001b[38;5;66;03m# Job = job_monitor(job) # Job Status: job is queued (73) αν δείτε κάτι τέτοιο... θα αργήσει!\u001b[39;00m\n\u001b[0;32m      4\u001b[0m \u001b[38;5;66;03m# print(Job)\u001b[39;00m\n\u001b[1;32m----> 6\u001b[0m job \u001b[38;5;241m=\u001b[39m \u001b[43mexecute\u001b[49m\u001b[43m(\u001b[49m\u001b[43mqc\u001b[49m\u001b[43m,\u001b[49m\u001b[43m \u001b[49m\u001b[43mbackend\u001b[49m\u001b[43m \u001b[49m\u001b[38;5;241;43m=\u001b[39;49m\u001b[43m \u001b[49m\u001b[43mdevice\u001b[49m\u001b[43m,\u001b[49m\u001b[43m \u001b[49m\u001b[43mshots\u001b[49m\u001b[43m \u001b[49m\u001b[38;5;241;43m=\u001b[39;49m\u001b[43m \u001b[49m\u001b[38;5;241;43m1024\u001b[39;49m\u001b[43m)\u001b[49m\n\u001b[0;32m      7\u001b[0m device_result \u001b[38;5;241m=\u001b[39m job\u001b[38;5;241m.\u001b[39mresult()\n\u001b[0;32m      9\u001b[0m quantum_results \u001b[38;5;241m=\u001b[39m device_result\u001b[38;5;241m.\u001b[39mget_counts()\n",
      "File \u001b[1;32m~\\AppData\\Local\\Programs\\Python\\Python39\\lib\\site-packages\\qiskit\\execute_function.py:294\u001b[0m, in \u001b[0;36mexecute\u001b[1;34m(experiments, backend, basis_gates, coupling_map, backend_properties, initial_layout, seed_transpiler, optimization_level, pass_manager, qobj_id, qobj_header, shots, memory, max_credits, seed_simulator, default_qubit_los, default_meas_los, qubit_lo_range, meas_lo_range, schedule_los, meas_level, meas_return, memory_slots, memory_slot_size, rep_time, rep_delay, parameter_binds, schedule_circuit, inst_map, meas_map, scheduling_method, init_qubits, **run_config)\u001b[0m\n\u001b[0;32m    291\u001b[0m     experiments \u001b[38;5;241m=\u001b[39m pass_manager\u001b[38;5;241m.\u001b[39mrun(experiments)\n\u001b[0;32m    292\u001b[0m \u001b[38;5;28;01melse\u001b[39;00m:\n\u001b[0;32m    293\u001b[0m     \u001b[38;5;66;03m# transpiling the circuits using given transpile options\u001b[39;00m\n\u001b[1;32m--> 294\u001b[0m     experiments \u001b[38;5;241m=\u001b[39m \u001b[43mtranspile\u001b[49m\u001b[43m(\u001b[49m\n\u001b[0;32m    295\u001b[0m \u001b[43m        \u001b[49m\u001b[43mexperiments\u001b[49m\u001b[43m,\u001b[49m\n\u001b[0;32m    296\u001b[0m \u001b[43m        \u001b[49m\u001b[43mbasis_gates\u001b[49m\u001b[38;5;241;43m=\u001b[39;49m\u001b[43mbasis_gates\u001b[49m\u001b[43m,\u001b[49m\n\u001b[0;32m    297\u001b[0m \u001b[43m        \u001b[49m\u001b[43mcoupling_map\u001b[49m\u001b[38;5;241;43m=\u001b[39;49m\u001b[43mcoupling_map\u001b[49m\u001b[43m,\u001b[49m\n\u001b[0;32m    298\u001b[0m \u001b[43m        \u001b[49m\u001b[43mbackend_properties\u001b[49m\u001b[38;5;241;43m=\u001b[39;49m\u001b[43mbackend_properties\u001b[49m\u001b[43m,\u001b[49m\n\u001b[0;32m    299\u001b[0m \u001b[43m        \u001b[49m\u001b[43minitial_layout\u001b[49m\u001b[38;5;241;43m=\u001b[39;49m\u001b[43minitial_layout\u001b[49m\u001b[43m,\u001b[49m\n\u001b[0;32m    300\u001b[0m \u001b[43m        \u001b[49m\u001b[43mseed_transpiler\u001b[49m\u001b[38;5;241;43m=\u001b[39;49m\u001b[43mseed_transpiler\u001b[49m\u001b[43m,\u001b[49m\n\u001b[0;32m    301\u001b[0m \u001b[43m        \u001b[49m\u001b[43moptimization_level\u001b[49m\u001b[38;5;241;43m=\u001b[39;49m\u001b[43moptimization_level\u001b[49m\u001b[43m,\u001b[49m\n\u001b[0;32m    302\u001b[0m \u001b[43m        \u001b[49m\u001b[43mbackend\u001b[49m\u001b[38;5;241;43m=\u001b[39;49m\u001b[43mbackend\u001b[49m\u001b[43m,\u001b[49m\n\u001b[0;32m    303\u001b[0m \u001b[43m    \u001b[49m\u001b[43m)\u001b[49m\n\u001b[0;32m    305\u001b[0m \u001b[38;5;28;01mif\u001b[39;00m schedule_circuit:\n\u001b[0;32m    306\u001b[0m     experiments \u001b[38;5;241m=\u001b[39m schedule(\n\u001b[0;32m    307\u001b[0m         circuits\u001b[38;5;241m=\u001b[39mexperiments,\n\u001b[0;32m    308\u001b[0m         backend\u001b[38;5;241m=\u001b[39mbackend,\n\u001b[1;32m   (...)\u001b[0m\n\u001b[0;32m    311\u001b[0m         method\u001b[38;5;241m=\u001b[39mscheduling_method,\n\u001b[0;32m    312\u001b[0m     )\n",
      "File \u001b[1;32m~\\AppData\\Local\\Programs\\Python\\Python39\\lib\\site-packages\\qiskit\\compiler\\transpiler.py:307\u001b[0m, in \u001b[0;36mtranspile\u001b[1;34m(circuits, backend, basis_gates, inst_map, coupling_map, backend_properties, initial_layout, layout_method, routing_method, translation_method, scheduling_method, instruction_durations, dt, approximation_degree, timing_constraints, seed_transpiler, optimization_level, pass_manager, callback, output_name, unitary_synthesis_method, unitary_synthesis_plugin_config, target)\u001b[0m\n\u001b[0;32m    300\u001b[0m     warnings\u001b[38;5;241m.\u001b[39mwarn(\n\u001b[0;32m    301\u001b[0m         \u001b[38;5;124m\"\u001b[39m\u001b[38;5;124mWhen scheduling circuits without backend,\u001b[39m\u001b[38;5;124m\"\u001b[39m\n\u001b[0;32m    302\u001b[0m         \u001b[38;5;124m\"\u001b[39m\u001b[38;5;124m \u001b[39m\u001b[38;5;124m'\u001b[39m\u001b[38;5;124minstruction_durations\u001b[39m\u001b[38;5;124m'\u001b[39m\u001b[38;5;124m should be usually provided.\u001b[39m\u001b[38;5;124m\"\u001b[39m,\n\u001b[0;32m    303\u001b[0m         \u001b[38;5;167;01mUserWarning\u001b[39;00m,\n\u001b[0;32m    304\u001b[0m     )\n\u001b[0;32m    306\u001b[0m \u001b[38;5;66;03m# Get transpile_args to configure the circuit transpilation job(s)\u001b[39;00m\n\u001b[1;32m--> 307\u001b[0m transpile_args \u001b[38;5;241m=\u001b[39m \u001b[43m_parse_transpile_args\u001b[49m\u001b[43m(\u001b[49m\n\u001b[0;32m    308\u001b[0m \u001b[43m    \u001b[49m\u001b[43mcircuits\u001b[49m\u001b[43m,\u001b[49m\n\u001b[0;32m    309\u001b[0m \u001b[43m    \u001b[49m\u001b[43mbackend\u001b[49m\u001b[43m,\u001b[49m\n\u001b[0;32m    310\u001b[0m \u001b[43m    \u001b[49m\u001b[43mbasis_gates\u001b[49m\u001b[43m,\u001b[49m\n\u001b[0;32m    311\u001b[0m \u001b[43m    \u001b[49m\u001b[43minst_map\u001b[49m\u001b[43m,\u001b[49m\n\u001b[0;32m    312\u001b[0m \u001b[43m    \u001b[49m\u001b[43mcoupling_map\u001b[49m\u001b[43m,\u001b[49m\n\u001b[0;32m    313\u001b[0m \u001b[43m    \u001b[49m\u001b[43mbackend_properties\u001b[49m\u001b[43m,\u001b[49m\n\u001b[0;32m    314\u001b[0m \u001b[43m    \u001b[49m\u001b[43minitial_layout\u001b[49m\u001b[43m,\u001b[49m\n\u001b[0;32m    315\u001b[0m \u001b[43m    \u001b[49m\u001b[43mlayout_method\u001b[49m\u001b[43m,\u001b[49m\n\u001b[0;32m    316\u001b[0m \u001b[43m    \u001b[49m\u001b[43mrouting_method\u001b[49m\u001b[43m,\u001b[49m\n\u001b[0;32m    317\u001b[0m \u001b[43m    \u001b[49m\u001b[43mtranslation_method\u001b[49m\u001b[43m,\u001b[49m\n\u001b[0;32m    318\u001b[0m \u001b[43m    \u001b[49m\u001b[43mscheduling_method\u001b[49m\u001b[43m,\u001b[49m\n\u001b[0;32m    319\u001b[0m \u001b[43m    \u001b[49m\u001b[43minstruction_durations\u001b[49m\u001b[43m,\u001b[49m\n\u001b[0;32m    320\u001b[0m \u001b[43m    \u001b[49m\u001b[43mdt\u001b[49m\u001b[43m,\u001b[49m\n\u001b[0;32m    321\u001b[0m \u001b[43m    \u001b[49m\u001b[43mapproximation_degree\u001b[49m\u001b[43m,\u001b[49m\n\u001b[0;32m    322\u001b[0m \u001b[43m    \u001b[49m\u001b[43mseed_transpiler\u001b[49m\u001b[43m,\u001b[49m\n\u001b[0;32m    323\u001b[0m \u001b[43m    \u001b[49m\u001b[43moptimization_level\u001b[49m\u001b[43m,\u001b[49m\n\u001b[0;32m    324\u001b[0m \u001b[43m    \u001b[49m\u001b[43mcallback\u001b[49m\u001b[43m,\u001b[49m\n\u001b[0;32m    325\u001b[0m \u001b[43m    \u001b[49m\u001b[43moutput_name\u001b[49m\u001b[43m,\u001b[49m\n\u001b[0;32m    326\u001b[0m \u001b[43m    \u001b[49m\u001b[43mtiming_constraints\u001b[49m\u001b[43m,\u001b[49m\n\u001b[0;32m    327\u001b[0m \u001b[43m    \u001b[49m\u001b[43munitary_synthesis_method\u001b[49m\u001b[43m,\u001b[49m\n\u001b[0;32m    328\u001b[0m \u001b[43m    \u001b[49m\u001b[43munitary_synthesis_plugin_config\u001b[49m\u001b[43m,\u001b[49m\n\u001b[0;32m    329\u001b[0m \u001b[43m    \u001b[49m\u001b[43mtarget\u001b[49m\u001b[43m,\u001b[49m\n\u001b[0;32m    330\u001b[0m \u001b[43m\u001b[49m\u001b[43m)\u001b[49m\n\u001b[0;32m    332\u001b[0m _check_circuits_coupling_map(circuits, transpile_args, backend)\n\u001b[0;32m    334\u001b[0m \u001b[38;5;66;03m# Transpile circuits in parallel\u001b[39;00m\n",
      "File \u001b[1;32m~\\AppData\\Local\\Programs\\Python\\Python39\\lib\\site-packages\\qiskit\\compiler\\transpiler.py:564\u001b[0m, in \u001b[0;36m_parse_transpile_args\u001b[1;34m(circuits, backend, basis_gates, inst_map, coupling_map, backend_properties, initial_layout, layout_method, routing_method, translation_method, scheduling_method, instruction_durations, dt, approximation_degree, seed_transpiler, optimization_level, callback, output_name, timing_constraints, unitary_synthesis_method, unitary_synthesis_plugin_config, target)\u001b[0m\n\u001b[0;32m    562\u001b[0m inst_map \u001b[38;5;241m=\u001b[39m _parse_inst_map(inst_map, backend, num_circuits)\n\u001b[0;32m    563\u001b[0m faulty_qubits_map \u001b[38;5;241m=\u001b[39m _parse_faulty_qubits_map(backend, num_circuits)\n\u001b[1;32m--> 564\u001b[0m coupling_map \u001b[38;5;241m=\u001b[39m \u001b[43m_parse_coupling_map\u001b[49m\u001b[43m(\u001b[49m\u001b[43mcoupling_map\u001b[49m\u001b[43m,\u001b[49m\u001b[43m \u001b[49m\u001b[43mbackend\u001b[49m\u001b[43m,\u001b[49m\u001b[43m \u001b[49m\u001b[43mnum_circuits\u001b[49m\u001b[43m)\u001b[49m\n\u001b[0;32m    565\u001b[0m backend_properties \u001b[38;5;241m=\u001b[39m _parse_backend_properties(backend_properties, backend, num_circuits)\n\u001b[0;32m    566\u001b[0m backend_num_qubits \u001b[38;5;241m=\u001b[39m _parse_backend_num_qubits(backend, num_circuits)\n",
      "File \u001b[1;32m~\\AppData\\Local\\Programs\\Python\\Python39\\lib\\site-packages\\qiskit\\compiler\\transpiler.py:738\u001b[0m, in \u001b[0;36m_parse_coupling_map\u001b[1;34m(coupling_map, backend, num_circuits)\u001b[0m\n\u001b[0;32m    736\u001b[0m \u001b[38;5;28;01mfor\u001b[39;00m qubit1, qubit2 \u001b[38;5;129;01min\u001b[39;00m functional_gates:\n\u001b[0;32m    737\u001b[0m     \u001b[38;5;28;01mif\u001b[39;00m faulty_map[qubit1] \u001b[38;5;129;01mis\u001b[39;00m \u001b[38;5;129;01mnot\u001b[39;00m \u001b[38;5;28;01mNone\u001b[39;00m \u001b[38;5;129;01mand\u001b[39;00m faulty_map[qubit2] \u001b[38;5;129;01mis\u001b[39;00m \u001b[38;5;129;01mnot\u001b[39;00m \u001b[38;5;28;01mNone\u001b[39;00m:\n\u001b[1;32m--> 738\u001b[0m         \u001b[43mcoupling_map\u001b[49m\u001b[38;5;241;43m.\u001b[39;49m\u001b[43madd_edge\u001b[49m\u001b[43m(\u001b[49m\u001b[43mfaulty_map\u001b[49m\u001b[43m[\u001b[49m\u001b[43mqubit1\u001b[49m\u001b[43m]\u001b[49m\u001b[43m,\u001b[49m\u001b[43m \u001b[49m\u001b[43mfaulty_map\u001b[49m\u001b[43m[\u001b[49m\u001b[43mqubit2\u001b[49m\u001b[43m]\u001b[49m\u001b[43m)\u001b[49m\n\u001b[0;32m    739\u001b[0m \u001b[38;5;28;01mif\u001b[39;00m configuration\u001b[38;5;241m.\u001b[39mn_qubits \u001b[38;5;241m!=\u001b[39m coupling_map\u001b[38;5;241m.\u001b[39msize():\n\u001b[0;32m    740\u001b[0m     warnings\u001b[38;5;241m.\u001b[39mwarn(\n\u001b[0;32m    741\u001b[0m         \u001b[38;5;124m\"\u001b[39m\u001b[38;5;124mThe backend has currently some qubits/edges out of service.\u001b[39m\u001b[38;5;124m\"\u001b[39m\n\u001b[0;32m    742\u001b[0m         \u001b[38;5;124m\"\u001b[39m\u001b[38;5;124m This temporarily reduces the backend size from \u001b[39m\u001b[38;5;124m\"\u001b[39m\n\u001b[0;32m    743\u001b[0m         \u001b[38;5;124mf\u001b[39m\u001b[38;5;124m\"\u001b[39m\u001b[38;5;132;01m{\u001b[39;00mconfiguration\u001b[38;5;241m.\u001b[39mn_qubits\u001b[38;5;132;01m}\u001b[39;00m\u001b[38;5;124m to \u001b[39m\u001b[38;5;132;01m{\u001b[39;00mcoupling_map\u001b[38;5;241m.\u001b[39msize()\u001b[38;5;132;01m}\u001b[39;00m\u001b[38;5;124m\"\u001b[39m,\n\u001b[0;32m    744\u001b[0m         \u001b[38;5;167;01mUserWarning\u001b[39;00m,\n\u001b[0;32m    745\u001b[0m     )\n",
      "File \u001b[1;32m~\\AppData\\Local\\Programs\\Python\\Python39\\lib\\site-packages\\qiskit\\transpiler\\coupling.py:114\u001b[0m, in \u001b[0;36mCouplingMap.add_edge\u001b[1;34m(self, src, dst)\u001b[0m\n\u001b[0;32m    112\u001b[0m \u001b[38;5;28;01mif\u001b[39;00m dst \u001b[38;5;129;01mnot\u001b[39;00m \u001b[38;5;129;01min\u001b[39;00m \u001b[38;5;28mself\u001b[39m\u001b[38;5;241m.\u001b[39mphysical_qubits:\n\u001b[0;32m    113\u001b[0m     \u001b[38;5;28mself\u001b[39m\u001b[38;5;241m.\u001b[39madd_physical_qubit(dst)\n\u001b[1;32m--> 114\u001b[0m \u001b[38;5;28;43mself\u001b[39;49m\u001b[38;5;241;43m.\u001b[39;49m\u001b[43mgraph\u001b[49m\u001b[38;5;241;43m.\u001b[39;49m\u001b[43madd_edge\u001b[49m\u001b[43m(\u001b[49m\u001b[43msrc\u001b[49m\u001b[43m,\u001b[49m\u001b[43m \u001b[49m\u001b[43mdst\u001b[49m\u001b[43m,\u001b[49m\u001b[43m \u001b[49m\u001b[38;5;28;43;01mNone\u001b[39;49;00m\u001b[43m)\u001b[49m\n\u001b[0;32m    115\u001b[0m \u001b[38;5;28mself\u001b[39m\u001b[38;5;241m.\u001b[39m_dist_matrix \u001b[38;5;241m=\u001b[39m \u001b[38;5;28;01mNone\u001b[39;00m  \u001b[38;5;66;03m# invalidate\u001b[39;00m\n\u001b[0;32m    116\u001b[0m \u001b[38;5;28mself\u001b[39m\u001b[38;5;241m.\u001b[39m_is_symmetric \u001b[38;5;241m=\u001b[39m \u001b[38;5;28;01mNone\u001b[39;00m\n",
      "\u001b[1;31mPanicException\u001b[0m: StableGraph::add_edge: node index 1 is not a node in the graph"
     ]
    }
   ],
   "source": [
    "# device = provider.get_backend('ibm_osaka') \n",
    "# from qiskit.tools.monitor import job_monitor\n",
    "# Job = job_monitor(job) # Job Status: job is queued (73) αν δείτε κάτι τέτοιο... θα αργήσει!\n",
    "# print(Job)\n",
    "\n",
    "job = execute(qc, backend = device, shots = 1024)\n",
    "device_result = job.result()\n",
    "\n",
    "quantum_results = device_result.get_counts()\n",
    "classical_results=answer\n",
    "\n",
    "\n",
    "plot_histogram([quantum_results,classical_results], bar_labels=True)\n",
    "\n",
    "# print(job.job_id())\n",
    "# from qiskit.tools.monitor import job_monitor\n",
    "# Job = job_monitor(job) # Job Status: job is queued (73) αν δείτε κάτι τέτοιο... θα αργήσει!\n",
    "# print(Job)\n",
    "# device_result = job.result()\n",
    "# plot_histogram(device_result.get_counts(qc))\n",
    "# if data[0][1] == '1':\n",
    "#     pitch = int(( *127)/12 + 60)\n",
    "#     p.append(pitch)"
   ]
  },
  {
   "cell_type": "code",
   "execution_count": null,
   "id": "38bcd35a",
   "metadata": {},
   "outputs": [],
   "source": []
  },
  {
   "cell_type": "code",
   "execution_count": 10,
   "id": "183acea5",
   "metadata": {},
   "outputs": [
    {
     "ename": "AttributeError",
     "evalue": "Attribute result is not defined",
     "output_type": "error",
     "traceback": [
      "\u001b[1;31m---------------------------------------------------------------------------\u001b[0m",
      "\u001b[1;31mKeyError\u001b[0m                                  Traceback (most recent call last)",
      "File \u001b[1;32m~\\AppData\\Local\\Programs\\Python\\Python39\\lib\\site-packages\\qiskit\\result\\result.py:126\u001b[0m, in \u001b[0;36mResult.__getattr__\u001b[1;34m(self, name)\u001b[0m\n\u001b[0;32m    125\u001b[0m \u001b[38;5;28;01mtry\u001b[39;00m:\n\u001b[1;32m--> 126\u001b[0m     \u001b[38;5;28;01mreturn\u001b[39;00m \u001b[38;5;28;43mself\u001b[39;49m\u001b[38;5;241;43m.\u001b[39;49m\u001b[43m_metadata\u001b[49m\u001b[43m[\u001b[49m\u001b[43mname\u001b[49m\u001b[43m]\u001b[49m\n\u001b[0;32m    127\u001b[0m \u001b[38;5;28;01mexcept\u001b[39;00m \u001b[38;5;167;01mKeyError\u001b[39;00m \u001b[38;5;28;01mas\u001b[39;00m ex:\n",
      "\u001b[1;31mKeyError\u001b[0m: 'result'",
      "\nThe above exception was the direct cause of the following exception:\n",
      "\u001b[1;31mAttributeError\u001b[0m                            Traceback (most recent call last)",
      "Cell \u001b[1;32mIn [10], line 1\u001b[0m\n\u001b[1;32m----> 1\u001b[0m device_result \u001b[38;5;241m=\u001b[39m \u001b[43mjob\u001b[49m\u001b[38;5;241;43m.\u001b[39;49m\u001b[43mresult\u001b[49m()\n\u001b[0;32m      2\u001b[0m \u001b[38;5;66;03m# plot_histogram(device_result.get_counts(qc),title='Bell States σε πραγματικό κβαντικό υπολογιστή',color = 'red')\u001b[39;00m\n",
      "File \u001b[1;32m~\\AppData\\Local\\Programs\\Python\\Python39\\lib\\site-packages\\qiskit\\result\\result.py:128\u001b[0m, in \u001b[0;36mResult.__getattr__\u001b[1;34m(self, name)\u001b[0m\n\u001b[0;32m    126\u001b[0m     \u001b[38;5;28;01mreturn\u001b[39;00m \u001b[38;5;28mself\u001b[39m\u001b[38;5;241m.\u001b[39m_metadata[name]\n\u001b[0;32m    127\u001b[0m \u001b[38;5;28;01mexcept\u001b[39;00m \u001b[38;5;167;01mKeyError\u001b[39;00m \u001b[38;5;28;01mas\u001b[39;00m ex:\n\u001b[1;32m--> 128\u001b[0m     \u001b[38;5;28;01mraise\u001b[39;00m \u001b[38;5;167;01mAttributeError\u001b[39;00m(\u001b[38;5;124mf\u001b[39m\u001b[38;5;124m\"\u001b[39m\u001b[38;5;124mAttribute \u001b[39m\u001b[38;5;132;01m{\u001b[39;00mname\u001b[38;5;132;01m}\u001b[39;00m\u001b[38;5;124m is not defined\u001b[39m\u001b[38;5;124m\"\u001b[39m) \u001b[38;5;28;01mfrom\u001b[39;00m \u001b[38;5;21;01mex\u001b[39;00m\n",
      "\u001b[1;31mAttributeError\u001b[0m: Attribute result is not defined"
     ]
    }
   ],
   "source": [
    "device_result = job.result()\n",
    "# plot_histogram(device_result.get_counts(qc),title='Bell States σε πραγματικό κβαντικό υπολογιστή',color = 'red')"
   ]
  },
  {
   "cell_type": "code",
   "execution_count": null,
   "id": "aab0ea24",
   "metadata": {
    "scrolled": true
   },
   "outputs": [],
   "source": [
    "# device = provider.get_backend('ibmq_lima') # όποιο μας προτείνει\n",
    "quantum_results = device_result.get_counts()\n",
    "classical_results=answer\n",
    "\n",
    "plot_histogram([quantum_results,classical_results], bar_labels=True)\n"
   ]
  },
  {
   "cell_type": "code",
   "execution_count": null,
   "id": "84f2609a",
   "metadata": {},
   "outputs": [],
   "source": [
    "from qiskit import *\n",
    "from qiskit.tools.monitor import job_monitor\n",
    "from qiskit.tools.visualization import plot_histogram,plot_bloch_multivector\n",
    "from pythonosc import udp_client, dispatcher\n",
    "import numpy as np\n",
    "import socket\n",
    "import random\n",
    "import time\n",
    "\n",
    "\n",
    "address = socket.gethostbyname(socket.gethostname())\n",
    "port = 4560\n",
    "client = udp_client.SimpleUDPClient(address, port)\n",
    "n = 2\n",
    "\n",
    "\n",
    "q = QuantumRegister(n,name = 'qubit')\n",
    "c = ClassicalRegister(n,name = 'bit')\n",
    "qc = QuantumCircuit(q,c)\n",
    "\n",
    "qc.h(q[0])\n",
    "qc.z(q[0])\n",
    "qc.h(q[0])\n",
    "\n",
    "qc.measure(q,c)\n",
    "qc.draw(\"mpl\")\n",
    "# client = udp_client.SimpleUDPClient(\"127.0.0.1\", 4560)\n",
    "\n",
    "# client.send_message(\"/Play\",List)\n"
   ]
  },
  {
   "cell_type": "code",
   "execution_count": null,
   "id": "9147dc68",
   "metadata": {},
   "outputs": [],
   "source": [
    "# jfrom qiskit import QuantumCircuit, Aer, execute\n",
    "# from qiskit.visualization import plot_bloch_multivector\n",
    "\n",
    "# # Create a quantum circuit\n",
    "# qc = QuantumCircuit(1)\n",
    "# qc.h(0)  # Apply a Hadamard gate to create a superposition\n",
    "\n",
    "# # Simulate the circuit to obtain the statevector\n",
    "# backend = Aer.get_backend('statevector_simulator')\n",
    "# result = execute(qc, backend).result()\n",
    "# statevector = result.get_statevector()\n",
    "\n",
    "# # Print the phase of the statevector\n",
    "# phase =float (statevector[1])  # Extract the phase component of the statevector\n",
    "# print(\"The phase of the state is:\", phase)\n",
    "\n",
    "\n",
    "# from qiskit import QuantumCircuit, Aer, execute\n",
    "\n",
    "\n",
    "# Create a quantum circuit\n",
    "qc = QuantumCircuit(2)\n",
    "qc.h(0)  # Apply a Hadamard gate to qubit 0\n",
    "phase_change = 2 * 3.14159 / 3  # π/3 in radians\n",
    "qc.rz(phase_change, 0)\n",
    "# Simulate the circuit to obtain the statevector\n",
    "backend = Aer.get_backend('statevector_simulator')\n",
    "result = execute(qc, backend).result()\n",
    "statevector = result.get_statevector()\n",
    "\n",
    "# Print the amplitude of the statevector\n",
    "for amplitude in statevector:\n",
    "    print(amplitude)\n",
    "phase =float (statevector[1])  # Extract the phase component of the statevector\n",
    "print(phase)"
   ]
  },
  {
   "cell_type": "code",
   "execution_count": null,
   "id": "cdf65721",
   "metadata": {},
   "outputs": [],
   "source": [
    "result = execute(qc, BasicAer.get_backend('statevector_simulator')).result()\n",
    "z  = result.get_statevector(qc)\n",
    "plot_bloch_multivector(z,title=\"Bloch σφαίρα για cX|11>\")"
   ]
  },
  {
   "cell_type": "code",
   "execution_count": null,
   "id": "6f47e508",
   "metadata": {},
   "outputs": [],
   "source": [
    "\n"
   ]
  },
  {
   "cell_type": "code",
   "execution_count": null,
   "id": "9cc55deb",
   "metadata": {},
   "outputs": [],
   "source": [
    "device_result = job.result()\n",
    "plot_histogram(device_result.get_counts(qc),title='Πύλη Handard σε πραγματικό κβαντικό υπολογιστή',color = 'red')\n",
    "\n",
    "\n",
    "\n",
    "\n",
    "\n",
    "\n",
    "\n",
    "\n",
    "\n",
    "\n",
    "# #Παραάδειγμα 2\n",
    "# from qiskit import *\n",
    "# from qiskit.visualization import plot_histogram\n",
    "# from qiskit import IBMQ\n",
    "# from qiskit.providers.ibmq import least_busy\n",
    "# n = 3\n",
    "# qr = QuantumRegister(n, 'q')\n",
    "# cr = ClassicalRegister(n, 'b')\n",
    "# qc = QuantumCircuit(qr,cr)\n",
    "# qc.h(0)\n",
    "# for i in range(1,n):\n",
    "#     qc.cx(0,i)\n",
    "# qc.barrier()\n",
    "# qc.measure(qr,cr)\n",
    "# qc.draw(output='mpl')\n",
    "\n",
    "# IBMQ.save_account('15115150cb3b379e32bdc053e55e90b4b55c2e53098e3acd108681a055cb980004d87e5800365ae0d48cf24af9119a29f2ce5dde66be740fb17557ef0728ee2a',overwrite = True)\n",
    "# #Προσβαση στους κβαντικους υπολογιστες\n",
    "# IBMQ.load_account()\n",
    "\n",
    "# #Ζητάμε να δούμε ποιος ειναι ο λιγότερο απασχολημένος υπολογιστής και αυτόν χρησιμοποιούμε\n",
    "# from qiskit.providers.ibmq import least_busy\n",
    "\n",
    "# provider =IBMQ.get_provider(hub='ibm-q')\n",
    "\n",
    "# small_devices = provider.backends(filters=lambda x: x.configuration().n_qubits == 5\n",
    "#                                    and not x.configuration().simulator)\n",
    "# least_busy(small_devices)\n"
   ]
  },
  {
   "cell_type": "code",
   "execution_count": null,
   "id": "e1d50c18",
   "metadata": {},
   "outputs": [],
   "source": []
  },
  {
   "cell_type": "code",
   "execution_count": null,
   "id": "7585905b",
   "metadata": {},
   "outputs": [],
   "source": [
    "quantum_results = device_result.get_counts()\n",
    "classical_results=answer\n",
    "\n",
    "# job = execute(qc, backend = device, shots = 1)\n",
    "# print(job.job_id())\n",
    "# job_monitor(job) # Job Status: job is queued (73) αν δείτε κάτι τέτοιο... θα αργήσει!\n",
    "# print(job_monitor(job)) # Job Status: job is queued (73) αν δείτε κάτι τέτοιο... θα αργήσει!\n",
    "\n",
    "# device_result = job.result()\n",
    "plot_histogram([quantum_results,classical_results], bar_labels=True)\n",
    "\n",
    "# from qiskit import *\n",
    "# from qiskit.visualization import plot_histogram\n",
    "# from qiskit import IBMQ\n",
    "# from qiskit.providers.ibmq import least_busy\n",
    "# from pythonosc.udp_client import*\n",
    "# import numpy as np\n",
    "\n",
    "# q = QuantumRegister(2)\n",
    "# c = ClassicalRegister(2)\n",
    "# qc = QuantumCircuit(q,c)\n",
    "# # choice = int(input(\"Input Your Answer: \"))\n",
    " \n",
    "\n",
    "# qc.h(q[0])\n",
    "# qc.i(q[1])\n",
    "# qc.cx(q[0],q[1])\n",
    "# qc.measure(q,c)\n",
    "# qc.draw(\"mpl\")\n",
    "\n",
    "# shots = 10\n",
    "# job = execute(qc, Aer.get_backend('statevector_simulator'), shots=1024, memory=True)\n",
    "# data = job.result().get_statevector()\n",
    "# print(data)\n",
    "\n",
    "# z = np.asarray(data)\n",
    "# print(z)\n"
   ]
  },
  {
   "cell_type": "code",
   "execution_count": null,
   "id": "71b81572",
   "metadata": {},
   "outputs": [],
   "source": [
    "# client = SimpleUDPClient(\"192.168.1.3\",4560)\n",
    "# p = []\n",
    "# for i in (z):\n",
    "#     pitch = int((abs(i) *127)/12 + 60)\n",
    "#     p.append(pitch)\n",
    "    \n",
    "#     client.send_message(\"/play\",pitch)\n",
    "# print(p)"
   ]
  },
  {
   "cell_type": "code",
   "execution_count": null,
   "id": "f526dbee",
   "metadata": {},
   "outputs": [],
   "source": [
    "\n",
    "# device = provider.get_backend('ibmq_quito') #όποιο μας προτείνει\n",
    "\n",
    "# job = execute(qc, backend = device, shots = 1024)#shots δίχνει πόσες φορές θέλουμε να εκτελεστει το πρόγραμμα μας\n",
    "# print(job.job_id())\n",
    "# from qiskit.tools.monitor import job_monitor\n",
    "# job_monitor(job) # Job Status: job is queued (73) αν δείτε κάτι τέτοιο... θα αργήσει!\n",
    "\n",
    "# device_result = job.result()\n",
    "# plot_histogram(device_result.get_counts(qc))"
   ]
  },
  {
   "cell_type": "code",
   "execution_count": null,
   "id": "e86e52c7",
   "metadata": {},
   "outputs": [],
   "source": [
    "# from qiskit import *\n",
    "# from qiskit.visualization import plot_histogram\n",
    "# from qiskit import IBMQ\n",
    "# from qiskit.providers.ibmq import least_busy\n",
    "# from pythonosc.udp_client import*\n",
    "\n",
    "# q = QuantumRegister(2)\n",
    "# c = ClassicalRegister(2)\n",
    "# qc = QuantumCircuit(q,c)\n",
    "# # choice = int(input(\"Input Your Answer: \"))\n",
    " \n",
    "\n",
    "# qc.h(q[0])\n",
    "# qc.i(q[1])\n",
    "# # qc.cx(q[0],q[1])\n",
    "# qc.measure(q,c)\n",
    "# qc.draw(\"mpl\")\n",
    "\n",
    "# shots = 10\n",
    "# job = execute(qc, Aer.get_backend('qasm_simulator'), shots=10, memory=True).result()\n",
    "# data = job.get_statevector()\n",
    "# print(data[0])\n",
    "\n",
    "# # client.send_message(\"/live_loop\",'foo')\n",
    "# client = SimpleUDPClient('192.168.1.5',4560)\n",
    "\n",
    "# # n = len(data)\n",
    "# # client.send_message(\"/play\",6)\n",
    "# for i in range(10):\n",
    "#     if data[i] == '01':\n",
    "#     # client = SimpleUDPClient('192.168.1.5',4560)\n",
    "#         client.send_message(\"/play\",60)\n",
    "#     elif data[i] == '00':\n",
    "#         client.send_message(\"/play\",70)\n",
    "\n",
    "# # client = SimpleUDPClient('192.168.1.5',4560)\n",
    "\n",
    "# # client = SimpleUDPClient('192.168.1.5',4560)\n",
    "# # client.send_message(\"/synth/bass_foundation\",60)\n",
    "\n",
    "# # # dispatcher = Dispatcher()\n",
    "# # dispatcher.map(\"/triger/bass_foundatio\",60)\n",
    "\n",
    "\n",
    "# #         client = SimpleUDPClient('192.168.1.5',4560)\n",
    "# #         client.send_message(\"/play\",60)\n",
    "\n",
    "\n",
    "# #     qc.x(2)\n",
    "# # if data[0][2] == '1':|\n",
    "# #     qc.z(2)    \n",
    "# # qc.draw(output='mpl')"
   ]
  },
  {
   "cell_type": "code",
   "execution_count": null,
   "id": "6c4c90c0",
   "metadata": {},
   "outputs": [],
   "source": []
  },
  {
   "cell_type": "code",
   "execution_count": null,
   "id": "c7662211",
   "metadata": {},
   "outputs": [],
   "source": [
    "# from pythonosc.udp_client import*\n",
    "\n",
    "\n",
    "\n",
    "# # client.send_message(\"/live_loop\",'foo')\n",
    "# # client = SimpleUDPClient('192.168.1.5',4560)\n",
    "# client.send_message(\"/play\",90)\n",
    "# client = SimpleUDPClient('192.168.1.5',4560)\n",
    "\n",
    "\n",
    "\n"
   ]
  },
  {
   "cell_type": "code",
   "execution_count": null,
   "id": "aa711e07",
   "metadata": {},
   "outputs": [],
   "source": [
    "# from qiskit import QuantumCircuit, Aer, execute\n",
    "# from pythonosc import udp_client\n",
    "\n",
    "# # Define the quantum circuit to run\n",
    "# qc = QuantumCircuit(2, 2)\n",
    "# qc.h(0)\n",
    "# qc.cx(0, 1)\n",
    "# qc.measure([0, 1], [0, 1])\n",
    "\n",
    "# # Run the quantum circuit on a local simulator\n",
    "# backend = Aer.get_backend('qasm_simulator')\n",
    "# result = execute(qc, backend, shots=1).result()\n",
    "# counts = result.get_counts()\n",
    "\n",
    "# # Send the measurement results to Sonic Pi using OSC\n",
    "# client = udp_client.SimpleUDPClient('localhost', 4560)\n",
    "# if '00' in counts:\n",
    "#     client.send_message('/measure', 0)\n",
    "# else:\n",
    "#     client.send_message('/measure', 1)\n",
    "\n",
    "# # Receive the measurement results in Sonic Pi using OSC\n",
    "# osc_receive '/measure' do |message|\n",
    "#   if message.to_i == 0\n",
    "#     synth :tb303, note: :c2, release: 0.2, cutoff: 100, amp: 1\n",
    "#   else\n",
    "#     synth :tb303, note: :g2, release: 0.2, cutoff: 100, amp: 1\n",
    "#   end\n",
    "# end"
   ]
  },
  {
   "cell_type": "code",
   "execution_count": null,
   "id": "0ea0ea65",
   "metadata": {},
   "outputs": [],
   "source": [
    "from qiskit import *\n",
    "from qiskit.tools.monitor import job_monitor\n",
    "from qiskit.tools.visualization import plot_histogram\n",
    "n =3 \n",
    "q = QuantumRegister(n,name = 'qubit')\n",
    "c = ClassicalRegister(n,name = 'bit')\n",
    "qc = QuantumCircuit(q,c)\n",
    "\n",
    "qc.x(q[0])\n",
    "qc.h(q[1])\n",
    "qc.i(q[2])\n",
    "\n",
    "qc.measure(q,c)\n",
    "qc.draw(\"mpl\")"
   ]
  },
  {
   "cell_type": "code",
   "execution_count": null,
   "id": "9c84950b",
   "metadata": {},
   "outputs": [],
   "source": [
    "job = execute(qc, Aer.get_backend('qasm_simulator'),shots = 1024).result()\n",
    "answer = job.get_counts(qc)\n",
    "plot_histogram(answer, color='maroon', title='Quantum Walk Algorithm')\n"
   ]
  },
  {
   "cell_type": "code",
   "execution_count": null,
   "id": "36350860",
   "metadata": {},
   "outputs": [],
   "source": [
    "print(answer)"
   ]
  },
  {
   "cell_type": "code",
   "execution_count": null,
   "id": "056ca8cf",
   "metadata": {},
   "outputs": [],
   "source": []
  }
 ],
 "metadata": {
  "kernelspec": {
   "display_name": "Python 3 (ipykernel)",
   "language": "python",
   "name": "python3"
  },
  "language_info": {
   "codemirror_mode": {
    "name": "ipython",
    "version": 3
   },
   "file_extension": ".py",
   "mimetype": "text/x-python",
   "name": "python",
   "nbconvert_exporter": "python",
   "pygments_lexer": "ipython3",
   "version": "3.11.7"
  }
 },
 "nbformat": 4,
 "nbformat_minor": 5
}
